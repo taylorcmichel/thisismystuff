{
  "nbformat": 4,
  "nbformat_minor": 0,
  "metadata": {
    "colab": {
      "provenance": [],
      "mount_file_id": "1MDI-SV9faYxt_aLZtqbRTA37uwbFwY0w",
      "authorship_tag": "ABX9TyMmqp9ww38fm5RmuI76f+t+",
      "include_colab_link": true
    },
    "kernelspec": {
      "name": "python3",
      "display_name": "Python 3"
    },
    "language_info": {
      "name": "python"
    }
  },
  "cells": [
    {
      "cell_type": "markdown",
      "metadata": {
        "id": "view-in-github",
        "colab_type": "text"
      },
      "source": [
        "<a href=\"https://colab.research.google.com/github/taylorcmichel/thisismystuff/blob/main/Loyalists_Polars_with_Names.ipynb\" target=\"_parent\"><img src=\"https://colab.research.google.com/assets/colab-badge.svg\" alt=\"Open In Colab\"/></a>"
      ]
    },
    {
      "cell_type": "code",
      "execution_count": 1,
      "metadata": {
        "id": "FN-hhgT4jxqZ"
      },
      "outputs": [],
      "source": [
        "import glob\n",
        "import polars as pl"
      ]
    },
    {
      "cell_type": "code",
      "source": [
        "path = '/content/drive/MyDrive/Colab Notebooks/'\n",
        "datapath = 'Loyalist Project/Membership Data Files/CSVs/'\n",
        "files = '* Membership Data.csv'\n",
        "fullpath = path + datapath + files\n",
        "allfiles = []"
      ],
      "metadata": {
        "id": "krkSxCS8kSoI"
      },
      "execution_count": 2,
      "outputs": []
    },
    {
      "cell_type": "code",
      "source": [
        "for file in sorted(glob.glob(fullpath)):\n",
        "  q = pl.scan_csv(file, infer_schema_length=int(10e10),\n",
        "                  truncate_ragged_lines=True)\n",
        "  allfiles.append(q)"
      ],
      "metadata": {
        "id": "ROBBLQvRk1Jt"
      },
      "execution_count": 3,
      "outputs": []
    },
    {
      "cell_type": "code",
      "source": [
        "full_list_df = (\n",
        "    pl.read_csv(path + datapath + '2013-2024 Individual Members.csv',\n",
        "                infer_schema_length=0)\n",
        "    .with_columns(pl.all().cast(pl.Utf8, strict=False))\n",
        ")"
      ],
      "metadata": {
        "id": "842oHqhCkb7k"
      },
      "execution_count": 4,
      "outputs": []
    },
    {
      "cell_type": "code",
      "source": [
        "dfs = pl.collect_all(allfiles)"
      ],
      "metadata": {
        "id": "tY9bm64alPku"
      },
      "execution_count": 5,
      "outputs": []
    },
    {
      "cell_type": "code",
      "source": [
        "def cleanandstrip(dataframe, allfiles):\n",
        "  for x in range(len(allfiles)):\n",
        "    dataframe[x] = dataframe[x].filter(\n",
        "        ~pl.col('Primary Member Type').is_in(['Emeritus',\n",
        "                                              'Travel Fellow',\n",
        "                                              'Honorary'])\n",
        "    )\n",
        "    dataframe[x] = dataframe[x][[\n",
        "        'individual_id'\n",
        "    ]]\n",
        "    dataframe[x] = dataframe[x].rename(\n",
        "        {\n",
        "            'individual_id': 'Contact Number'\n",
        "        }\n",
        "    )\n",
        "    dataframe[x] = dataframe[x].select(\n",
        "        pl.col('Contact Number').cast(pl.Utf8)\n",
        "    )"
      ],
      "metadata": {
        "id": "cpZGBDL2mbWg"
      },
      "execution_count": 6,
      "outputs": []
    },
    {
      "cell_type": "code",
      "source": [
        "cleanandstrip(dfs, allfiles)"
      ],
      "metadata": {
        "id": "w3MlbNu0rKmT"
      },
      "execution_count": 7,
      "outputs": []
    },
    {
      "cell_type": "code",
      "source": [
        "main_all_df = (\n",
        "    pl.concat(\n",
        "        [dfs[0], dfs[1], dfs[2], dfs[3], dfs[4], dfs[5]], how='align'\n",
        "    )\n",
        ")"
      ],
      "metadata": {
        "id": "eZ_vCaIavMLk"
      },
      "execution_count": 8,
      "outputs": []
    },
    {
      "cell_type": "code",
      "source": [
        "all_mems = (\n",
        "    main_all_df.clone()\n",
        "    .unique(\n",
        "        subset='Contact Number', maintain_order=True\n",
        "    )\n",
        ")"
      ],
      "metadata": {
        "id": "Dpl5MLVyOq4J"
      },
      "execution_count": 9,
      "outputs": []
    },
    {
      "cell_type": "code",
      "source": [
        "years = ['_2018', '_2019', '_2020', '_2021', '_2022', '_2023']\n",
        "\n",
        "new_build_on_df = all_mems[['Contact Number']]\n",
        "\n",
        "for x in range(len(allfiles)):\n",
        "  new_build_on_df = (\n",
        "      new_build_on_df.join(\n",
        "          dfs[x], on='Contact Number', suffix=years[x], how='outer'\n",
        "      )\n",
        "      .unique(\n",
        "          subset='Contact Number', maintain_order=True\n",
        "      )\n",
        "  )\n",
        "  new_build_on_df = (\n",
        "      new_build_on_df.with_columns(\n",
        "        pl.col(\n",
        "            f'Contact Number{years[x]}'\n",
        "        )\n",
        "        .is_not_null()\n",
        "      )\n",
        "  )"
      ],
      "metadata": {
        "id": "2oQnz4dS3sMk"
      },
      "execution_count": 10,
      "outputs": []
    },
    {
      "cell_type": "code",
      "source": [
        "total_true = (\n",
        "    new_build_on_df.with_columns(\n",
        "        sum=pl.sum_horizontal('Contact Number_2018',\n",
        "                              'Contact Number_2019',\n",
        "                              'Contact Number_2020',\n",
        "                              'Contact Number_2021',\n",
        "                              'Contact Number_2022',\n",
        "                              'Contact Number_2023')\n",
        "        )\n",
        ")"
      ],
      "metadata": {
        "id": "BrbTqzER4p6E"
      },
      "execution_count": 11,
      "outputs": []
    },
    {
      "cell_type": "code",
      "source": [
        "total_true = (\n",
        "    total_true.with_columns(\n",
        "        pl.when(\n",
        "            pl.col('sum') >= 5\n",
        "        )\n",
        "        .then(\n",
        "            pl.lit('Y')\n",
        "        )\n",
        "        .otherwise(\n",
        "            pl.lit('N')\n",
        "        )\n",
        "        .alias('Loyalist')\n",
        "    )\n",
        ")"
      ],
      "metadata": {
        "id": "7vZgaq7zIF5_"
      },
      "execution_count": 12,
      "outputs": []
    },
    {
      "cell_type": "code",
      "source": [
        "total_loyalists = (\n",
        "    total_true.select(\n",
        "        [\n",
        "            pl.col('Loyalist').value_counts(sort=True)\n",
        "        ]\n",
        "    )\n",
        ")"
      ],
      "metadata": {
        "id": "We_6mJ8wIuXc"
      },
      "execution_count": 13,
      "outputs": []
    },
    {
      "cell_type": "code",
      "source": [
        "loyalist_df = (\n",
        "    total_true.filter(\n",
        "        pl.col('Loyalist') == 'Y'\n",
        "    )\n",
        ")"
      ],
      "metadata": {
        "id": "h9B5pKPAmv5_"
      },
      "execution_count": 14,
      "outputs": []
    },
    {
      "cell_type": "code",
      "source": [
        "loyalist_df = (\n",
        "    loyalist_df.join(\n",
        "        full_list_df, left_on='Contact Number',\n",
        "        right_on='pa_contactnumber_stripped',\n",
        "        suffix='_w/ NAMES',\n",
        "        how='left')\n",
        ").unique(subset='Contact Number', maintain_order=True)"
      ],
      "metadata": {
        "id": "ZpoFAEv9q94O"
      },
      "execution_count": 15,
      "outputs": []
    },
    {
      "cell_type": "code",
      "source": [
        "final_df = (\n",
        "    loyalist_df.select(\n",
        "        pl.col('Contact Number_w/ NAMES'),\n",
        "        pl.col('Full Name'),\n",
        "        pl.col('Contact Number_2018'),\n",
        "        pl.col('Contact Number_2019'),\n",
        "        pl.col('Contact Number_2020'),\n",
        "        pl.col('Contact Number_2021'),\n",
        "        pl.col('Contact Number_2022'),\n",
        "        pl.col('Contact Number_2023'),\n",
        "        pl.col('sum'),\n",
        "        pl.col('Loyalist')\n",
        "    )\n",
        ")\n",
        "\n",
        "print(final_df)\n",
        "print(total_loyalists)"
      ],
      "metadata": {
        "colab": {
          "base_uri": "https://localhost:8080/"
        },
        "id": "QOU8iZGxtqeo",
        "outputId": "3f3b7486-be8f-4e63-da83-22b44821013d"
      },
      "execution_count": 16,
      "outputs": [
        {
          "output_type": "stream",
          "name": "stdout",
          "text": [
            "shape: (11_513, 10)\n",
            "┌────────────┬────────────┬────────────┬────────────┬───┬────────────┬────────────┬─────┬──────────┐\n",
            "│ Contact    ┆ Full Name  ┆ Contact    ┆ Contact    ┆ … ┆ Contact    ┆ Contact    ┆ sum ┆ Loyalist │\n",
            "│ Number_w/  ┆ ---        ┆ Number_201 ┆ Number_201 ┆   ┆ Number_202 ┆ Number_202 ┆ --- ┆ ---      │\n",
            "│ NAMES      ┆ str        ┆ 8          ┆ 9          ┆   ┆ 2          ┆ 3          ┆ u32 ┆ str      │\n",
            "│ ---        ┆            ┆ ---        ┆ ---        ┆   ┆ ---        ┆ ---        ┆     ┆          │\n",
            "│ str        ┆            ┆ bool       ┆ bool       ┆   ┆ bool       ┆ bool       ┆     ┆          │\n",
            "╞════════════╪════════════╪════════════╪════════════╪═══╪════════════╪════════════╪═════╪══════════╡\n",
            "│ 000001000  ┆ Kaczmarek, ┆ true       ┆ true       ┆ … ┆ true       ┆ true       ┆ 6   ┆ Y        │\n",
            "│            ┆ Leonard K  ┆            ┆            ┆   ┆            ┆            ┆     ┆          │\n",
            "│ 000010000  ┆ Desimone,  ┆ true       ┆ true       ┆ … ┆ true       ┆ true       ┆ 6   ┆ Y        │\n",
            "│            ┆ Robert     ┆            ┆            ┆   ┆            ┆            ┆     ┆          │\n",
            "│ 100000019  ┆ Baba,      ┆ true       ┆ true       ┆ … ┆ true       ┆ true       ┆ 6   ┆ Y        │\n",
            "│            ┆ Yoshichika ┆            ┆            ┆   ┆            ┆            ┆     ┆          │\n",
            "│ 100000021  ┆ Bae, Yong  ┆ true       ┆ true       ┆ … ┆ true       ┆ true       ┆ 6   ┆ Y        │\n",
            "│            ┆ Chul       ┆            ┆            ┆   ┆            ┆            ┆     ┆          │\n",
            "│ …          ┆ …          ┆ …          ┆ …          ┆ … ┆ …          ┆ …          ┆ …   ┆ …        │\n",
            "│ 000009898  ┆ Onali,     ┆ true       ┆ true       ┆ … ┆ true       ┆ false      ┆ 5   ┆ Y        │\n",
            "│            ┆ Pier Luigi ┆            ┆            ┆   ┆            ┆            ┆     ┆          │\n",
            "│ 000000099  ┆ Gilbert,   ┆ true       ┆ true       ┆ … ┆ true       ┆ true       ┆ 6   ┆ Y        │\n",
            "│            ┆ Charles D  ┆            ┆            ┆   ┆            ┆            ┆     ┆          │\n",
            "│ 999006079  ┆ Contreras- ┆ true       ┆ true       ┆ … ┆ true       ┆ true       ┆ 6   ┆ Y        │\n",
            "│            ┆ Hernandez, ┆            ┆            ┆   ┆            ┆            ┆     ┆          │\n",
            "│            ┆ Enrique    ┆            ┆            ┆   ┆            ┆            ┆     ┆          │\n",
            "│ 000009996  ┆ Collins,   ┆ true       ┆ true       ┆ … ┆ true       ┆ true       ┆ 6   ┆ Y        │\n",
            "│            ┆ William F  ┆            ┆            ┆   ┆            ┆            ┆     ┆          │\n",
            "└────────────┴────────────┴────────────┴────────────┴───┴────────────┴────────────┴─────┴──────────┘\n",
            "shape: (2, 1)\n",
            "┌─────────────┐\n",
            "│ Loyalist    │\n",
            "│ ---         │\n",
            "│ struct[2]   │\n",
            "╞═════════════╡\n",
            "│ {\"N\",62947} │\n",
            "│ {\"Y\",11513} │\n",
            "└─────────────┘\n"
          ]
        }
      ]
    }
  ]
}